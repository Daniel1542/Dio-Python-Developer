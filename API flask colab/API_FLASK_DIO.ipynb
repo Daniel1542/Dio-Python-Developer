{
  "cells": [
    {
      "cell_type": "markdown",
      "metadata": {
        "colab_type": "text",
        "id": "view-in-github"
      },
      "source": [
        "<a href=\"https://colab.research.google.com/github/Daniel1542/Dio-Python-Developer/blob/main/API%20flask%20colab/API_FLASK_DIO.ipynb\" target=\"_parent\"><img src=\"https://colab.research.google.com/assets/colab-badge.svg\" alt=\"Open In Colab\"/></a>"
      ]
    },
    {
      "cell_type": "code",
      "execution_count": null,
      "metadata": {
        "id": "2hXOwZw09b2S"
      },
      "outputs": [],
      "source": [
        "!pip install flask-ngrok\n",
        "!pip install pyngrok\n",
        "!ngrok authtoken '2eWiSBv4L9dvEGl82E6zFcXd4QZ_4Uv8FvQN7YQktAthtaKiB'"
      ]
    },
    {
      "cell_type": "code",
      "execution_count": 9,
      "metadata": {
        "id": "gd4BQZgY-Pod"
      },
      "outputs": [],
      "source": [
        "import pandas as pd\n",
        "from flask_ngrok import run_with_ngrok\n",
        "from flask import request, jsonify, Flask\n",
        "import random as rk"
      ]
    },
    {
      "cell_type": "code",
      "execution_count": 10,
      "metadata": {
        "id": "KAHk2ALhuU62"
      },
      "outputs": [],
      "source": [
        "app = Flask(__name__)\n",
        "run_with_ngrok(app)"
      ]
    },
    {
      "cell_type": "code",
      "execution_count": 11,
      "metadata": {
        "id": "zjOyviOWusPS"
      },
      "outputs": [],
      "source": [
        "json = [{\n",
        "    \"numero\": 1,\n",
        "    \"nome\": \"Miltom\",\n",
        "    \"idade\": 50,\n",
        "    \"cidade\": \"Rio de Janeiro\",\n",
        "    \"estado\": \"RJ\",\n",
        "    \"pais\": \"Brasil\"\n",
        "}, {\n",
        "    \"numero\": 2,\n",
        "    \"nome\": \"Jhonson\",\n",
        "    \"idade\": 30,\n",
        "    \"cidade\": \"Belem\",\n",
        "    \"estado\": \"Pa\",\n",
        "    \"pais\": \"Brasil\"\n",
        "}, {\n",
        "    \"numero\": 3,\n",
        "    \"nome\": \"Jorge\",\n",
        "    \"idade\": 61,\n",
        "    \"cidade\": \"Salvador\",\n",
        "    \"estado\": \"Ba\",\n",
        "    \"pais\": \"Brasil\"\n",
        "}, {\n",
        "    \"numero\": 4,\n",
        "    \"nome\": \"Matheus\",\n",
        "    \"idade\": 28,\n",
        "    \"cidade\": \"Porto Alegre\",\n",
        "    \"estado\": \"RS\",\n",
        "    \"pais\": \"Brasil\"\n",
        "}]"
      ]
    },
    {
      "cell_type": "code",
      "execution_count": 12,
      "metadata": {
        "id": "X8bnvICHuutw"
      },
      "outputs": [],
      "source": [
        "@app.route(\"/index\")\n",
        "\n",
        "def index():\n",
        "    return \"Hello World\""
      ]
    },
    {
      "cell_type": "code",
      "execution_count": 13,
      "metadata": {
        "id": "vq-KtxeBu9ry"
      },
      "outputs": [],
      "source": [
        "@app.route(\"/input\")\n",
        "\n",
        "def input_json():\n",
        "  return jsonify(json)"
      ]
    },
    {
      "cell_type": "code",
      "execution_count": 14,
      "metadata": {
        "id": "bv28ZrxNvAfk"
      },
      "outputs": [],
      "source": [
        "@app.route('/output', methods=['GET','POST'])\n",
        "\n",
        "def pred_json():\n",
        " pred = rk.choice([\"positive\",\"negative\"])\n",
        " nd = json\n",
        " nd[\"prediction\"]=pred\n",
        " return jsonify(nd)"
      ]
    },
    {
      "cell_type": "code",
      "execution_count": null,
      "metadata": {
        "id": "IbgkPUySvC5l"
      },
      "outputs": [],
      "source": [
        "app.run()"
      ]
    }
  ],
  "metadata": {
    "colab": {
      "include_colab_link": true,
      "provenance": []
    },
    "kernelspec": {
      "display_name": "Python 3",
      "name": "python3"
    },
    "language_info": {
      "codemirror_mode": {
        "name": "ipython",
        "version": 3
      },
      "file_extension": ".py",
      "mimetype": "text/x-python",
      "name": "python",
      "nbconvert_exporter": "python",
      "pygments_lexer": "ipython3",
      "version": "3.12.2"
    }
  },
  "nbformat": 4,
  "nbformat_minor": 0
}
